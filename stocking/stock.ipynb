{
 "cells": [
  {
   "cell_type": "code",
   "execution_count": 2,
   "metadata": {
    "collapsed": true
   },
   "outputs": [],
   "source": [
    "import csv\n",
    "import numpy as np\n",
    "from sklearn.svm import SVR\n",
    "import matplotlib.pyplot as plt"
   ]
  },
  {
   "cell_type": "code",
   "execution_count": 5,
   "metadata": {
    "collapsed": true
   },
   "outputs": [],
   "source": [
    "dates = []\n",
    "prices = []\n",
    "\n",
    "def read_csv(fn):\n",
    "    with open(fn, 'r') as csvfile:\n",
    "        reader = csv.reader(csvfile)\n",
    "        next(reader)\n",
    "        for row in reader:\n",
    "            dates.append(int(row[0].split('-')[0]))\n",
    "            prices.append(float(row[1]))\n",
    "    return\n",
    "\n",
    "def predict(dates, prices, x):\n",
    "    dates = np.reshape(dates, (len(dates),1))\n",
    "    svr_lin = SVR(kernel='linear', C=1e3)\n",
    "    svr_ploy = SVR(kernel='poly', C=1e3, degree=2)\n",
    "    svr_rbf = SVR(kernel='rbf', C=1e3, gamma=0.1)\n",
    "    svr_lin.fit(dates,prices)\n",
    "    svr_ploy.fit(dates,prices)\n",
    "    svr_rbf.fit(dates,prices)\n",
    "    # graphy\n",
    "    plt.scatter(dates,prices,color='black',label='Data')\n",
    "    plt.plot(dates,svr_lin.predict(dates), color='red', label='Linear model')\n",
    "    plt.plot(dates,svr_ploy.predict(dates), color='green', label='Polynomial model')\n",
    "    plt.plot(dates,svr_rbf.predict(dates), color='blue', label='RBF model')\n",
    "    plt.xlabel(\"Date\")\n",
    "    plt.ylabel(\"Price\")\n",
    "    plt.title(\"SVR\")\n",
    "    plt.legend()\n",
    "    plt.show()\n",
    "    \n",
    "    return\n"
   ]
  },
  {
   "cell_type": "code",
   "execution_count": 12,
   "metadata": {},
   "outputs": [],
   "source": [
    "def predict(dates, prices, x):\n",
    "    dates = np.reshape(dates, (len(dates),1))\n",
    "    svr_rbf = SVR(kernel='rbf', C=1e3, gamma=0.1)\n",
    "    svr_rbf.fit(dates, prices)\n",
    "    # graph it\n",
    "    plt.scatter(dates,prices,color='black',label='Data')\n",
    "    plt.plot(dates, svr_rbf.predict(dates), color='blue', label='RBF model')\n",
    "    plt.xlabel(\"Date\")\n",
    "    plt.ylabel(\"Price\")\n",
    "    plt.title(\"SVR-RBF\")\n",
    "    plt.legend()\n",
    "    plt.show()\n",
    "    \n",
    "    return svr_rbf.predict(x)[0]\n",
    "    "
   ]
  },
  {
   "cell_type": "code",
   "execution_count": 15,
   "metadata": {},
   "outputs": [
    {
     "data": {
      "image/png": "[encoded data removed]",
      "text/plain": [
       "<matplotlib.figure.Figure at 0x7f713d208da0>"
      ]
     },
     "metadata": {},
     "output_type": "display_data"
    },
    {
     "name": "stdout",
     "output_type": "stream",
     "text": [
      "110.812009616\n"
     ]
    }
   ],
   "source": [
    "read_csv(\"./aapl.csv\")\n",
    "pred_price = predict(dates, prices, 29)\n",
    "print(pred_price)"
   ]
  },
  {
   "cell_type": "code",
   "execution_count": null,
   "metadata": {
    "collapsed": true
   },
   "outputs": [],
   "source": []
  }
 ],
 "metadata": {
  "kernelspec": {
   "display_name": "Python 3",
   "language": "python",
   "name": "python3"
  },
  "language_info": {
   "codemirror_mode": {
    "name": "ipython",
    "version": 3
   },
   "file_extension": ".py",
   "mimetype": "text/x-python",
   "name": "python",
   "nbconvert_exporter": "python",
   "pygments_lexer": "ipython3",
   "version": "3.4.2"
  }
 },
 "nbformat": 4,
 "nbformat_minor": 2
}
