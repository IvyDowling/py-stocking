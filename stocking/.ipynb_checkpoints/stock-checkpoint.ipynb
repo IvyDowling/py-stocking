{
 "cells": [
  {
   "cell_type": "code",
   "execution_count": 52,
   "metadata": {
    "collapsed": true
   },
   "outputs": [],
   "source": [
    "import pandas as pd\n",
    "import numpy as np\n",
    "from sklearn.svm import SVR\n",
    "import matplotlib.pyplot as plt"
   ]
  },
  {
   "cell_type": "code",
   "execution_count": 53,
   "metadata": {},
   "outputs": [
    {
     "name": "stdout",
     "output_type": "stream",
     "text": [
      "     Date    Open    High     Low   Close    Volume\n",
      "0  170609  155.19  155.19  146.02  148.98  64882657\n",
      "1  170608  155.25  155.54  154.40  154.99  21250798\n",
      "2  170607  155.02  155.98  154.48  155.37  21069647\n",
      "3  170606  153.90  155.81  153.78  154.45  26624926\n",
      "4  170605  154.34  154.45  153.46  153.93  25331662\n"
     ]
    }
   ],
   "source": [
    "def fix_dates(x):\n",
    "    # comes in as day-monthstr-yr\n",
    "    # I want yearmonthday\n",
    "    x = x.replace('Jan','01')\n",
    "    x = x.replace('Feb','02')\n",
    "    x = x.replace('Mar','03')\n",
    "    x = x.replace('Apr','04')\n",
    "    x = x.replace('May','05')\n",
    "    x = x.replace('Jun','06')\n",
    "    x = x.replace('Jul','07')\n",
    "    x = x.replace('Aug','08')\n",
    "    x = x.replace('Sep','09')\n",
    "    x = x.replace('Oct','10')\n",
    "    x = x.replace('Nov','11')\n",
    "    x = x.replace('Dec','12')\n",
    "    # lets split it\n",
    "    splt = x.split('-')\n",
    "    ret = splt[2] + splt[1]\n",
    "    # but lets make sure that the day gets a 0 if its one index\n",
    "    if len(splt[0]) == 1:\n",
    "        ret += \"0\" + splt[0]\n",
    "    else:\n",
    "        ret += splt[0]\n",
    "    return int(ret)\n",
    "    \n",
    "\n",
    "df = pd.read_csv(\"./aapl.csv\",\n",
    "                 converters={'Date': lambda x: fix_dates(x)})\n",
    "\n",
    "print(df.head(n=5))"
   ]
  },
  {
   "cell_type": "code",
   "execution_count": 54,
   "metadata": {},
   "outputs": [
    {
     "name": "stdout",
     "output_type": "stream",
     "text": [
      "['Date', 'Open', 'High', 'Low', 'Close', 'Volume']\n"
     ]
    }
   ],
   "source": [
    "col_names = df.columns.values.tolist()\n",
    "print(col_names)"
   ]
  },
  {
   "cell_type": "code",
   "execution_count": 55,
   "metadata": {},
   "outputs": [
    {
     "name": "stdout",
     "output_type": "stream",
     "text": [
      "Date        int64\n",
      "Open      float64\n",
      "High      float64\n",
      "Low       float64\n",
      "Close     float64\n",
      "Volume      int64\n",
      "dtype: object\n"
     ]
    }
   ],
   "source": [
    "print(df.dtypes)"
   ]
  },
  {
   "cell_type": "code",
   "execution_count": 68,
   "metadata": {},
   "outputs": [
    {
     "data": {
      "image/png": "[encoded data removed]",
      "text/plain": [
       "<matplotlib.figure.Figure at 0x7f1809838828>"
      ]
     },
     "metadata": {},
     "output_type": "display_data"
    },
    {
     "data": {
      "text/plain": [
       "<matplotlib.figure.Figure at 0x7f18098382b0>"
      ]
     },
     "metadata": {},
     "output_type": "display_data"
    }
   ],
   "source": [
    "draw = df[[col_names[0], col_names[1]]]\n",
    "draw.plot(x='Date', y='Open')\n",
    "plt.xlabel('Date')\n",
    "plt.ylabel('Open')\n",
    "plt.figure()\n",
    "plt.show()"
   ]
  },
  {
   "cell_type": "code",
   "execution_count": 69,
   "metadata": {},
   "outputs": [],
   "source": [
    "def predict(dates, prices, x):\n",
    "    dates = np.reshape(dates, (len(dates),1))\n",
    "    svr_rbf = SVR(kernel='rbf', C=1e3, gamma=0.1)\n",
    "    svr_rbf.fit(dates, prices)\n",
    "    # graph it\n",
    "    plt.scatter(dates,prices,color='black',label='Data')\n",
    "    plt.plot(dates, svr_rbf.predict(dates), color='blue', label='RBF model')\n",
    "    plt.xlabel(\"Date\")\n",
    "    plt.ylabel(\"Price\")\n",
    "    plt.title(\"SVR-RBF\")\n",
    "    plt.legend()\n",
    "    plt.show()\n",
    "    \n",
    "    return svr_rbf.predict(x)[0]"
   ]
  },
  {
   "cell_type": "code",
   "execution_count": 71,
   "metadata": {
    "scrolled": true
   },
   "outputs": [
    {
     "data": {
      "image/png": "[encoded data removed]",
      "text/plain": [
       "<matplotlib.figure.Figure at 0x7f18098330f0>"
      ]
     },
     "metadata": {},
     "output_type": "display_data"
    },
    {
     "name": "stdout",
     "output_type": "stream",
     "text": [
      "121.673059889\n"
     ]
    }
   ],
   "source": [
    "pred_price = predict(df['Date'].values, df['Open'].values, 15)\n",
    "print(pred_price)"
   ]
  },
  {
   "cell_type": "code",
   "execution_count": null,
   "metadata": {
    "collapsed": true
   },
   "outputs": [],
   "source": []
  }
 ],
 "metadata": {
  "kernelspec": {
   "display_name": "Python 3",
   "language": "python",
   "name": "python3"
  },
  "language_info": {
   "codemirror_mode": {
    "name": "ipython",
    "version": 3
   },
   "file_extension": ".py",
   "mimetype": "text/x-python",
   "name": "python",
   "nbconvert_exporter": "python",
   "pygments_lexer": "ipython3",
   "version": "3.4.2"
  }
 },
 "nbformat": 4,
 "nbformat_minor": 2
}
